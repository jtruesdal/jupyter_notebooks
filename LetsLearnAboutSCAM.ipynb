{
 "cells": [
  {
   "cell_type": "markdown",
   "id": "7075c739-ad73-44ee-8a54-f277f8f6cfd8",
   "metadata": {
    "editable": true,
    "slideshow": {
     "slide_type": "slide"
    },
    "tags": []
   },
   "source": [
    "# Lets Learn About SCAM"
   ]
  },
  {
   "cell_type": "markdown",
   "id": "6b2e8b6c-f525-4e08-b153-92fd054c9716",
   "metadata": {
    "editable": true,
    "slideshow": {
     "slide_type": "slide"
    },
    "tags": []
   },
   "source": [
    "## NCAR CAM single-column modeling framework\n",
    "The National Center for Atmospheric Research (NCAR) Community Atmosphere Model (CAM) is a state-of-the-art atmospheric general circulation model widely employed in climate and weather research. The single-column model (SCM) configuration of CAM, denoted as SCAM, represents a significant simplification designed to isolate and simulate atmospheric processes within a single vertical column of the atmosphere. This approach facilitates focused investigation of parameterized physical processes, crucial for understanding their behavior in isolation from complex large-scale dynamical feedbacks.\n",
    "\n",
    "A key aspect of SCAM is that it utilizes the exact same physics package as the full, global CAM model. This means that the parameterization schemes for processes like cloud formation, convection, radiation, and boundary layer mixing are identical, whether they are being run in a single column or as part of a 3D global simulation. This fidelity is crucial because it ensures that the insights gained from SCAM are directly transferable and relevant to understanding the behavior of these physics in the global model context. "
   ]
  },
  {
   "cell_type": "markdown",
   "id": "43803495-c004-4dda-9aaf-3ea65fd54d51",
   "metadata": {
    "editable": true,
    "slideshow": {
     "slide_type": "slide"
    },
    "tags": []
   },
   "source": [
    "<h2>Strengths and Weaknesses of a Single-Column Model</h2>\n",
    "\n",
    "<div style=\"display: flex; flex-wrap: wrap;\">\n",
    "    <div style=\"flex: 1; min-width: 48%; padding-right: 1%;\">\n",
    "        <h3>Pros</h3>\n",
    "        <ul>\n",
    "            <li>Simplified Framework: SCMs isolate a single atmospheric column, simplifying parameterization development (e.g., for clouds, convection, boundary layer processes)and process oriented studies (e.g., the diurnal cycle of precipitation, cloud feedbacks, sensitivity to microphysical parameters)  without the complexity of large-scale dynamics.</li>\n",
    "            <li>Computational Efficiency: Significantly less computationally demanding compared to full 3D models, allowing for numerous sensitivity studies and parameter exploration.</li>\n",
    "            <li>Debugging: Easier to identify and isolate errors in parameterization schemes because the influence of large-scale dynamics is removed.</li>\n",
    "            <li>Established SCM Community: There is a large community of single column model </li>\n",
    "        </ul>\n",
    "    </div>\n",
    "    <div style=\"flex: 1; min-width: 48%; padding-left: 1%;\">\n",
    "        <h3>Cons</h3>\n",
    "        <ul>\n",
    "            <li>Lack of Feedbacks: The absence of interactive non-linear large-scale dynamics and feedbacks can lead to unrealistic behavior and limit the representativeness of results when compared to a fully coupled system or observations.</li>\n",
    "            <li>Forcing Data Dependency: Require accurate large-scale forcing data (e.g., temperature and moisture tendencies due to advection, vertical velocity) which can be challenging to obtain from observations or reanalysis.</li>\n",
    "            <li>Limited Representation of Organization: Struggle to accurately capture organized convective systems or situations where large-scale circulations interact strongly with parameterized physics.</li>\n",
    "            <li>Challenges with Boundary Conditions: Properly specifying boundary conditions, especially over complex surfaces (e.g., land-sea contrasts), can be difficult.</li>\n",
    "            <li>Chaotic solution bifurcation: Differences in physics program libraries can cause solution variability, including nontrivial divergences due to minor algorithmic changes or major parameterization updates.</li>\n",
    "            <li>Simple Framework: The simplicity can make it challenging to identify which parameterization traits will transfer to global model performance, partly due to signal-to-noise issues inherent in the framework.</li>\n",
    "        </ul>\n",
    "    </div>\n",
    "</div>\n",
    "\n",
    "><b>It's important to be aware of the limitations introduced by the simplified dynamics and rely on other methods, such as full 3D models and observations, for comprehensive understanding.</b>"
   ]
  },
  {
   "cell_type": "markdown",
   "id": "3e978b3a-4389-485b-b34d-2100dd7951ee",
   "metadata": {},
   "source": [
    "### From NCAR's first SCCM User Guide. \n",
    "\n",
    "\"Experience has shown that even small roundoff changes can introduce nontrivial differences in the solutions produced by the single column model.  For example, the old and new solutions will track each other to a high degree of accuracy and suddenly diverge, resulting in fundamentally different solution characteristics.  This is a property of branch points in the physics codes that can result in non-deterministic solutions, and should not necessarily be cause for alarm.   Once a significant difference is introduced in an solution because of a branch point, the lack of dynamical feedbacks can limit the chances that the solutions will once again converge.\""
   ]
  },
  {
   "cell_type": "markdown",
   "id": "d7091d67-5b7b-4a66-a84a-7cfa04320197",
   "metadata": {},
   "source": [
    "## Methods to address framework (Nudging, Ensembles)\n",
    "### Nudging\n",
    "Single-column models (SCMs) isolate physics parameterizations from large-scale dynamics. To enable meaningful process studies and model evaluation, Newtonian relaxation (nudging) is employed to:\n",
    "- Maintain Realistic States:\n",
    "    - Prevent drift of temperature/moisture profiles from observations or reference.\n",
    "    - Ensure realistic atmospheric soundings for accurate physics function (e.g., convection, clouds).\n",
    "- Bridge Observations & Parameterizations:\n",
    "    - Facilitate direct comparison of model physics to observed processes.\n",
    "    - Diagnose model biases by analyzing nudging tendencies.\n",
    "- Address Lack of Large-Scale Dynamics:\n",
    "    - Implicitly account for some large-scale effects (e.g., advection). \n",
    "#### Considerations\n",
    "- Potential to mask physics behavior: Relaxation terms introduce a correction that can interfere with the pure behavior of the parameterizations.\n",
    "- Balancing strength: Relaxation strength/timescale must balance realistic state maintenance with allowing physics freedom.\n",
    "- Impact on rates: May introduce errors in processes driven by rates rather than states. \n",
    "### Ensembles\n"
   ]
  },
  {
   "cell_type": "markdown",
   "id": "d9cb7e4a-c4e5-47f7-8113-382782efc5dc",
   "metadata": {},
   "source": [
    "\n",
    "Hack J J, Pedretti J A. 2000. Assessment of solution uncertainties in single-column modeling frameworks [J]. J. Climate, 13 (2): 352-365.\n",
    "\n",
    "There are many unresolved questions about the most\n",
    "effective experimental framework for conducting sin-\n",
    "gle-column modeling studies. One of the foremost ques-\n",
    "tions is whether the detailed reproduction of an observed\n",
    "geophysical time series should be the objective, or\n",
    "whether the reproduction of the statistical properties of\n",
    "that time series is the more realistic goal. One issue that\n",
    "has been documented in this study is that a single-col-\n",
    "umn modeling framework is a complex nonlinear sys-\n",
    "tem that should be treated as such. Single solutions to\n",
    "a particular forcing scenario cannot be assumed to be\n",
    "representative. Because of the highly nonlinear char-\n",
    "acter of most physical parameterization packages, the\n",
    "establishment of solution uncertainties should be a stan-\n",
    "dard component of any single-column modeling inves-\n",
    "tigation."
   ]
  },
  {
   "cell_type": "markdown",
   "id": "0c494c11-07d7-4a2e-bfbd-260eb222730d",
   "metadata": {},
   "source": [
    "## Employing relaxation in single-column models\n",
    "Single-column models (SCMs) are invaluable tools for developing and testing atmospheric physics parameterizations because they isolate these processes from complex large-scale dynamics. However, this simplification comes with a significant challenge: without the resolved dynamics of a global model, SCMs can drift from a realistic atmospheric state, particularly in terms of temperature and moisture profiles. This drift makes it difficult to evaluate the fidelity of the parameterizations being studied, as errors in the simulated state can mask or compound errors in the physics. \n",
    "\n",
    "To address this challenge, SCMs often employ a technique called Newtonian relaxation, or \"nudging,\" which relaxes the prognosed variables (like temperature, moisture, or aerosol concentrations) towards observed values or a predefined reference profile. This approach ensures that the SCM maintains a realistic atmospheric state, allowing for more meaningful evaluations of the parameterized physics. \n",
    "\n",
    "Here's why employing relaxation is crucial in SCMs:\n",
    "1. Maintaining realistic atmospheric states\n",
    "- Preventing Drift: In SCMs, the adiabatic tendencies (which represent the effects of large-scale dynamics like horizontal advection and vertical motion) are either prescribed or parameterized in a simplified manner. This decoupling can lead to imbalances between the prescribed dynamics and the simulated diabatic tendencies (from the physics parameterizations). Over time, these imbalances can cause the SCM's prognosed variables (temperature, moisture) to drift significantly from observed or expected profiles, Community Earth System Model.\n",
    "- Realistic Soundings: Relaxation ensures that the SCM's temperature and moisture soundings remain close to the reference state (either observations or a reliable analysis), which is crucial for the realistic functioning of many physics parameterizations, especially those related to convection and clouds. If the atmospheric state becomes unrealistic, the behavior of these sensitive parameterizations can be severely distorted, making their evaluation nearly meaningless. \n",
    "2. Bridging observations and parameterizations\n",
    "- Process-Oriented Evaluation: Relaxation allows for the direct comparison of model physics to observations from specific field campaigns or sites, Colorado State University. This \"nudged\" setup enables researchers to isolate the behavior of individual parameterizations or components of the physics suite and assess how well they reproduce observed processes. Atmospheric Radiation Measurement (ARM) User Facility (.gov)\n",
    "- Identifying Model Biases: By nudging the model towards observations, researchers can analyze the \"nudging tendencies,\" which represent the implicit adjustments required to keep the model in line with the reference state, AGU Publications. These nudging tendencies can provide insights into where the model physics diverge from reality, helping to identify and diagnose model biases related to specific processes. AGU Publications\n",
    "- Direct Evaluation of Coupled Models: Relaxation can also be used in coupled atmosphere-ocean models to facilitate direct evaluation against observations, even for short-term campaigns or specific weather events, Copernicus.org. \n",
    "3. Addressing the lack of large-scale dynamics\n",
    "- Mimicking Large-Scale Effects: In the absence of a fully resolved large-scale circulation, relaxation can implicitly account for some of the effects of large-scale processes like advection, American Meteorological Society. For example, relaxing aerosol species to observed profiles can compensate for the lack of large-scale vertical advection, especially in the upper troposphere, Community Earth System Model. \n",
    "#### Considerations and limitations\n",
    "While powerful, relaxation also has its considerations:\n",
    "- Contamination of Physics: The relaxation terms directly influence the prognostic variables, meaning they introduce a \"correction\" that can mask the true behavior of the parameterized physics if not carefully analyzed.\n",
    "- Balance of Forcing and Physics: The strength and timescale of relaxation must be chosen carefully to strike a balance between maintaining a realistic state and allowing the model physics sufficient freedom to evolve and exhibit their inherent behavior.\n",
    "- Potential for Errors in Rates: While relaxation helps maintain realistic states, it can sometimes introduce errors in processes driven by rates (fluxes) rather than states, such as precipitation. \n"
   ]
  },
  {
   "cell_type": "markdown",
   "id": "ea96288e-882d-42e6-9dee-6ed284ae2fc5",
   "metadata": {
    "editable": true,
    "slideshow": {
     "slide_type": "slide"
    },
    "tags": []
   },
   "source": [
    "## Introduction to SCMs and the prognostic equations\n",
    "\n",
    "SCAM, like its parent 3D model (CAM), prognoses the evolution of several key atmospheric variables, including:\n",
    "* Temperature (T): Governed by radiative heating, turbulent mixing, and latent heat release/absorption from phase changes of water (condensation, evaporation, freezing, melting).\n",
    "* Moisture (Q): Represented as water vapor mixing ratio and affected by advection, vertical transport by parameterized convection, and microphysical processes (e.g., condensation, evaporation, deposition, sublimation).\n",
    "* Cloud and aerosol properties: These are either prognosed or prescribed depending on the chosen configuration and the specific physics packages used.\n",
    "* Radiative heating rates: Calculated using the rrtmgp radiation scheme to determine the heating and cooling of the atmosphere due to shortwave and longwave radiation.\n",
    "#### Important note:\n",
    "> In SCAM, the large-scale atmospheric circulation (winds and advection of heat and moisture) is generally prescribed rather than prognosed. This is a crucial distinction between SCAM and the full 3D CAM model."
   ]
  },
  {
   "cell_type": "markdown",
   "id": "987a1cda-3903-456e-a68b-32b8df7ff9d2",
   "metadata": {
    "editable": true,
    "slideshow": {
     "slide_type": "slide"
    },
    "tags": []
   },
   "source": [
    "## The Prognostic equations\n",
    "The core of a SCAM'sconfiguration is governed by two prognostic equations:"
   ]
  },
  {
   "cell_type": "markdown",
   "id": "a42d3ea7-f076-4b27-8ea5-687527050342",
   "metadata": {
    "editable": true,
    "slideshow": {
     "slide_type": "slide"
    },
    "tags": []
   },
   "source": [
    "### Thermodynamic energy equation: \n",
    "describes the evolution of temperature (or a related variable like potential temperature or dry static energy).\n",
    "        $$\n",
    "        \\frac{\\partial T}{\\partial t} = -\\vec{v} \\cdot \\nabla T - \\omega \\frac{\\partial T}{\\partial p} + Q_{LS} + Q_{phys}\n",
    "        $$\n",
    "\n",
    "> where $\\frac{\\partial T}{\\partial t}$ is the local time derivative of temperature, $-\\vec{v} \\cdot \\nabla T$ is horizontal temperature advection, $-\\omega \\frac{\\partial T}{\\partial p}$ is vertical temperature advection, $Q_{LS}$ represents large-scale temperature forcing, and $Q_{phys}$ represents temperature tendencies due to parameterized physics.\n",
    "### Water vapor mass continuity equation:\n",
    "governs the evolution of moisture (usually specific humidity).\n",
    "        $$\n",
    "        \\frac{\\partial q}{\\partial t} = -\\vec{v} \\cdot \\nabla q - \\omega \\frac{\\partial q}{\\partial p} + S_{LS} + S_{phys}\n",
    "        $$\n",
    "\n",
    "> where $\\frac{\\partial q}{\\partial t}$ is the local time derivative of specific humidity, $-\\vec{v} \\cdot \\nabla q$ is horizontal moisture advection, $-\\omega \\frac{\\partial q}{\\partial p}$ is vertical moisture advection, $S_{LS}$ represents large-scale moisture forcing, and $S_{phys}$ represents moisture tendencies due to parameterized physics."
   ]
  },
  {
   "cell_type": "markdown",
   "id": "d298f3f2-90a2-4eb5-9c70-84c10dbe08b4",
   "metadata": {
    "editable": true,
    "slideshow": {
     "slide_type": "slide"
    },
    "tags": []
   },
   "source": [
    "### Atmospheric momentum equations:\n",
    "\n",
    "equations for zonal ($u$) and meridional ($v$) wind components in a pressure coordinate system are:\n",
    "$$\n",
    "\\frac{\\partial u}{\\partial t}=-\\omega \\frac{\\partial u}{\\partial p}+U_{LS}+U_{physics} \\quad (3)\n",
    "$$\n",
    "\n",
    "$$\n",
    "\\frac{\\partial v}{\\partial t}=-\\omega \\frac{\\partial v}{\\partial p}+V_{LS}+V_{physics} \\quad (4)\n",
    "$$\n",
    "\n",
    "> where $\\frac{\\partial u}{\\partial t}$ and $\\frac{\\partial v}{\\partial t}$ represent the local time tendencies of the zonal and meridional wind, respectively; $-\\omega \\frac{\\partial u}{\\partial p}$ and $-\\omega \\frac{\\partial v}{\\partial p}$ represent the vertical advection of horizontal momentum by vertical velocity ($\\omega$) in pressure coordinates; $U_{LS}$ and $V_{LS}$ represent the large-scale forcing or large-scale advection of momentum, potentially including horizontal advection, Coriolis force, and pressure gradient force; and $U_{physics}$ and $V_{physics}$ represent contributions from physical parameterizations or subgrid-scale processes like friction, turbulence, convection, and gravity wave drag.\n"
   ]
  },
  {
   "cell_type": "markdown",
   "id": "8d5ecbc4-c760-4d5f-94ec-b10f3c5b45ba",
   "metadata": {
    "editable": true,
    "slideshow": {
     "slide_type": "slide"
    },
    "tags": []
   },
   "source": [
    "Forcing, physics, and model applications\n",
    "\n",
    "*   SCM solutions are obtained by integrating the prognostic equations forward in time using specified initial conditions and forcing terms.\n",
    "\n",
    "### Forcing terms\n",
    "\n",
    "*   **Large-scale advection (horizontal and/or vertical):** Prescribed to represent the influence of the surrounding environment on the column.\n",
    "*   Can be derived from observations, reanalysis data, or output from high-resolution models\n",
    "\n",
    "### Physics tendency terms\n",
    "\n",
    "*   **Parameterized subgrid-scale processes:** Include effects of radiation, clouds, turbulence, and other processes not explicitly resolved by the model.\n",
    "*   These parameterizations are a crucial area of research and development in atmospheric science.\n",
    "\n",
    "### SCM applications\n",
    "\n",
    "*   **Parameterization development and testing:** Provides a controlled environment to isolate and refine the representation of specific physical processes within atmospheric models.\n",
    "*   **Idealized studies:** Offers a cost-effective platform to investigate fundamental aspects of atmospheric behavior, like radiative-convective equilibrium.\n",
    "*   **Intercomparison studies:** Enables comparison of different model parameterizations or approaches under common forcing conditions.\n",
    "*   **Limitations:** The simplified nature of SCMs, particularly their decoupling of physics from large-scale dynamics, is a known limitation that must be considered when interpreting results."
   ]
  },
  {
   "cell_type": "code",
   "execution_count": null,
   "id": "a8a5ed88-faf6-41fe-95a2-3c08171b1fd1",
   "metadata": {
    "editable": true,
    "slideshow": {
     "slide_type": "slide"
    },
    "tags": []
   },
   "outputs": [],
   "source": [
    "Slide describing CAM iop which captures dynamic tendencies for all tracers."
   ]
  },
  {
   "cell_type": "markdown",
   "id": "c235cd4e-14a3-435b-a92d-6ffc71f7bb96",
   "metadata": {
    "editable": true,
    "slideshow": {
     "slide_type": "slide"
    },
    "tags": []
   },
   "source": [
    "# <center>Tutorial for creating a CAM IOP and running SCAM</center>\n",
    "### <center>(Perfect Model)</center>"
   ]
  },
  {
   "cell_type": "markdown",
   "id": "68b50a8b-0f97-4839-92df-68c6d71349ce",
   "metadata": {
    "editable": true,
    "slideshow": {
     "slide_type": "slide"
    },
    "tags": []
   },
   "source": [
    "# Instructions for creating an NCAR CAM atmospheric model case for IOP output\n",
    "\n",
    "This guide provides the steps to set up and run an NCAR CAM model case configured to produce an IOP (Intensive Observing Period) file.\n",
    "\n",
    "---\n",
    "\n",
    "## 1. Checkout CAM tag you wish to use\n",
    "\n",
    "First, navigate to your desired working directory, clone the CAM repository, and check out the specific version (tag) you intend to use. Update the FlexiMod submodules to ensure all necessary external components are correctly aligned with your chosen CAM version.\n",
    "\n",
    "```bash\n",
    "set CESMDIR=/glade/campaign/cgd/amp/jet/collections\n",
    "set CASEDIR=/glade/campaign/cgd/amp/jet/cases\n",
    "set CASE=FHISTC_LTso.ne30_ne30_mg17.intel.cam6_4_106.58L.SOCRATES.IOP.004.cosp\n",
    "\n",
    "cd $CESMDIR\n",
    "git clone https://github.com/ESCOMP/CAM.git cam6_4_106  # Adjust directory name if cloning a different version\n",
    "cd cam6_4_106\n",
    "git checkout cam6_4_106  # Ensure you checkout the specific tag you want (e.g., cam6_4_106)\n",
    "./bin/git-fleximod update"
   ]
  },
  {
   "cell_type": "markdown",
   "id": "93bb2bcd-fe3f-4932-bbe4-19b36fabb9fe",
   "metadata": {
    "editable": true,
    "slideshow": {
     "slide_type": "slide"
    },
    "tags": []
   },
   "source": [
    "## 2. Create the case for the IOP output experiment\n",
    "After checking out CAM, create a new case using the create_newcase script. \n",
    "This step initializes the case directory with the specified component set, \n",
    "resolution, compiler, and other core settings. Following case creation, \n",
    "use xmlchange to modify various CESM settings, including project, \n",
    "output options, run duration, and directories. Finally, create user_nl_cam and user_nl_clm with the specific namelist modifications required for the IOP output and other experimental settings. Then set up and build the case.\n",
    "\n",
    "```bash\n",
    "cd $CASEDIR\n",
    "\n",
    "# Create the new case\n",
    "$CESMDIR/cam6_4_106/cime/scripts/create_newcase --compset FHISTC_LTso --res ne30_ne30_mg17 --compiler intel --case ${CASEDIR}/${CASE} --walltime 01:00:00 --queue main --run-unsupported\n",
    "\n",
    "# Navigate into the new case directory\n",
    "cd ${CASEDIR}/${CASE}\n",
    "\n",
    "# Modify XML settings\n",
    "./xmlchange --append CAM_CONFIG_OPTS=\"-cosp -camiop\"\n",
    "./xmlchange PROJECT=P93300042\n",
    "./xmlchange DOUT_S=FALSE\n",
    "./xmlchange RUN_STARTDATE=2017-12-15\n",
    "./xmlchange STOP_OPTION=ndays\n",
    "./xmlchange REST_OPTION=ndays\n",
    "./xmlchange REST_N=3\n",
    "./xmlchange STOP_N=3\n",
    "./xmlchange RUNDIR=$CASEDIR/$CASE/run\n",
    "./xmlchange EXEROOT=${CASEDIR}/${CASE}/bld\n",
    "./xmlchange ROF_NCPL=48\n",
    "./xmlchange GLC_NCPL=48\n",
    "\n",
    "# Run case setup\n",
    "./case.setup\n",
    "\n",
    "# Append CAM namelist modifications\n",
    "cat >> user_nl_cam << EOF\n",
    " ! Users should add all user specific namelist changes below in the form of \n",
    " ! namelist_var = new_namelist_value\n",
    "\n",
    " inithist='CAMIOP'\n",
    " ubc_file_cycle_yr = 2000\n",
    " ubc_file_input_type = 'CYCLICAL'\n",
    "\n",
    " se_rsplit = 6\n",
    " micro_mg_dcs= 600.D-6\n",
    " cldfrc_dp1 =  0.05\n",
    " clubb_c8 = 4.6 \n",
    "\n",
    " write_nstep0=.true.\n",
    " ext_frc_cycle_yr               = 2000\n",
    " ext_frc_type           = 'CYCLICAL'\n",
    " srf_emis_cycle_yr              = 2000\n",
    " srf_emis_type          = 'CYCLICAL'\n",
    " tracer_cnst_cycle_yr           = 2000\n",
    " tracer_cnst_type       = 'CYCLICAL'\n",
    " prescribed_ozone_cycle_yr      = 2000\n",
    " prescribed_ozone_type          = 'CYCLICAL'\n",
    " prescribed_strataero_cycle_yr  = 2000\n",
    " prescribed_strataero_type      = 'CYCLICAL'\n",
    " flbc_cycle_yr = 2000\n",
    " flbc_type = 'CYCLICAL'\n",
    " flbc_file              = '/glade/campaign/cesm/cesmdata/inputdata/atm/waccm/lb/LBC_17500116-20150116_CMIP6_0p5degLat_c180905.nc'\n",
    " scenario_ghg           = 'CHEM_LBC_FILE'\n",
    " history_budget =       .true.\n",
    " clubb_history = .true.\n",
    " clubb_vars_zt = 'mixt_frac','w_1','w_2','varnce_w_1','varnce_w_2'\n",
    "\n",
    " ndens          = 2,1\n",
    " nhtfrq         = 0,1\n",
    " write_nstep0   = .true.\n",
    " avgflag_pertape='A','I'\n",
    "EOF\n",
    "\n",
    "# Append CLM namelist modifications\n",
    "cat >> user_nl_clm << EOFclm\n",
    " flanduse_timeseries = '/glade/campaign/cesm/cesmdata/inputdata/lnd/clm2/surfdata_esmf/ctsm5.3.0/landuse.timeseries_ne30np4_SSP2-4.5_1850-2100_78pfts_c240908.nc'\n",
    "EOFclm\n",
    "\n",
    "# Build the case\n",
    "./case.build\n",
    "\n",
    "# Submit the case to the queue\n",
    "./case.submit"
   ]
  },
  {
   "cell_type": "markdown",
   "id": "f65b50c6-247a-4510-a9a7-a7697c3976c3",
   "metadata": {
    "editable": true,
    "slideshow": {
     "slide_type": "slide"
    },
    "tags": []
   },
   "source": [
    "3) Model runs producing the scam IOP file in $CASE.cam.h1i"
   ]
  },
  {
   "cell_type": "markdown",
   "id": "ca92a8fd-7eda-4317-a004-020888ce3508",
   "metadata": {
    "editable": true,
    "slideshow": {
     "slide_type": "slide"
    },
    "tags": []
   },
   "source": [
    "## Create a SCAM case for exact column reproduction\n",
    "This sequence of commands will set up and configure a SCAM case that uses an existing IOP file to initialize and force the single column, aiming for an exact reproduction of the atmospheric state captured in that IOP. \n",
    "1. Initialize environment variables and create the new case\n",
    "First, define the necessary environment variables and then use the create_newcase script to set up the initial case directory with the specified component set, resolution, compiler, and processing elements. Navigate into the newly created case directory. \n",
    "```bash\n",
    "set CASEDIR=/glade/campaign/cgd/amp/jet/cases # Assuming this is already set, or define appropriately\n",
    "set CESMDIR=/glade/campaign/cgd/amp/jet/collections/cam6_4_106 # Assuming this is already set and points to the CAM checkout\n",
    "set CASETITLE=scamtest\n",
    "set CASENAME=${CASETITLE} # You might want to make CASENAME more unique, e.g., ${CASETITLE}_${RES}_${COMPSET}\n",
    "\n",
    "set RES=ne3_ne3_mg37\n",
    "set COMPSET=FSCAMSOC  # Using the SCAM compset\n",
    "#set COMPSET=F2000climo  # Alternative compset (commented out)\n",
    "set COMPILER=intel\n",
    "set PES=1 # Number of processing elements\n",
    "\n",
    "cd  $CASEDIR\n",
    "$CESMDIR/cime/scripts/create_newcase --mach izumi --compset $COMPSET  --res $RES --compiler $COMPILER --case $CASEDIR/$CASENAME  --pecount ${PES} --run-unsupported\n",
    "\n",
    "cd  $CASEDIR/$CASENAME\n",
    "\n",
    "# Configure build and run directories\n",
    "\n",
    "#Ensure that the build and run directories are located within the case directory for better organization. \n",
    "\n",
    "set RUNDIR=${CASEDIR}/${CASENAME}/run\n",
    "./xmlchange RUNDIR=$RUNDIR\n",
    "\n",
    "./xmlchange EXEROOT=${CASEDIR}/${CASENAME}/bld\n",
    "\n",
    "#Apply XML configuration changes\n",
    "#Modify various settings within the case's XML files using the xmlchange command. #These changes specify crucial details like the land domain file, coupler #settings, run length, and enable debugging. \n",
    "\n",
    "./xmlchange LND_DOMAIN_FILE='domain.lnd.ne3np4_gx3v7.230718.nc'\n",
    "./xmlchange ROF_NCPL=`./xmlquery  --value \"ATM_NCPL\"` # Set river component coupling based on ATM_NCPL\n",
    "./xmlchange GLC_NCPL=`./xmlquery  --value \"ATM_NCPL\"` # Set land ice component coupling based on ATM_NCPL\n",
    "./xmlchange STOP_OPTION=nsteps,STOP_N=9 # Set run length to 9 steps\n",
    "./xmlchange DEBUG='TRUE' # Enable debugging\n",
    "\n",
    "#4. Setup the case\n",
    "#Execute the case.setup script to finalize the case configuration, which includes #generating namelist files and creating necessary directories based on the XML #settings. \n",
    "\n",
    "./case.setup # Use this or ./case.setup -d -v for verbose and debug file\n",
    "\n",
    "#5. Append CAM namelist modifications (same as global cam run to be duplicated)\n",
    "cat >> user_nl_cam << EOF\n",
    " ! Users should add all user specific namelist changes below in the form of \n",
    " ! namelist_var = new_namelist_value\n",
    "\n",
    " ubc_file_cycle_yr = 2000\n",
    " ubc_file_input_type = 'CYCLICAL'\n",
    "\n",
    " se_rsplit = 6\n",
    " micro_mg_dcs= 600.D-6\n",
    " cldfrc_dp1 =  0.05\n",
    " clubb_c8 = 4.6 \n",
    "\n",
    " write_nstep0=.true.\n",
    " ext_frc_cycle_yr               = 2000\n",
    " ext_frc_type           = 'CYCLICAL'\n",
    " srf_emis_cycle_yr              = 2000\n",
    " srf_emis_type          = 'CYCLICAL'\n",
    " tracer_cnst_cycle_yr           = 2000\n",
    " tracer_cnst_type       = 'CYCLICAL'\n",
    " prescribed_ozone_cycle_yr      = 2000\n",
    " prescribed_ozone_type          = 'CYCLICAL'\n",
    " prescribed_strataero_cycle_yr  = 2000\n",
    " prescribed_strataero_type      = 'CYCLICAL'\n",
    " flbc_cycle_yr = 2000\n",
    " flbc_type = 'CYCLICAL'\n",
    " flbc_file              = '/glade/campaign/cesm/cesmdata/inputdata/atm/waccm/lb/LBC_17500116-20150116_CMIP6_0p5degLat_c180905.nc'\n",
    " scenario_ghg           = 'CHEM_LBC_FILE'\n",
    " history_budget =       .true.\n",
    " clubb_history = .true.\n",
    " clubb_vars_zt = 'mixt_frac','w_1','w_2','varnce_w_1','varnce_w_2'\n",
    "\n",
    " ndens          = 2,1\n",
    " nhtfrq         = 0,1\n",
    " write_nstep0   = .true.\n",
    " avgflag_pertape='A','I'\n",
    "EOF\n",
    "\n",
    "# Append CLM namelist modifications\n",
    "cat >> user_nl_clm << EOFclm\n",
    " flanduse_timeseries = '/glade/campaign/cesm/cesmdata/inputdata/lnd/clm2/surfdata_esmf/ctsm5.3.0/landuse.timeseries_ne30np4_SSP2-4.5_1850-2100_78pfts_c240908.nc'\n",
    "EOFclm\n",
    "\n",
    "\n",
    "#6. Build the Case\n",
    "./case.build\n",
    "\n",
    "#7. Submit the job to the queue\n",
    "./case.submit"
   ]
  },
  {
   "cell_type": "markdown",
   "id": "6b58c3e2-915c-4f1f-a0d3-067f3494da18",
   "metadata": {
    "editable": true,
    "slideshow": {
     "slide_type": "slide"
    },
    "tags": []
   },
   "source": [
    "## How to include user code modifications to the NCAR CAM model under the SourceMods/src.cam directory within a CESM case\n",
    "The CESM (Community Earth System Model) provides a dedicated mechanism, called SourceMods, for users to introduce and manage their own code modifications without altering the main CESM source tree. This ensures that your changes are preserved when updating the main CESM code and simplifies the process of sharing and reproducing your modified simulations. \n",
    "### Steps for adding your code modifications\n",
    "1) Identify the subroutine to modify: Pinpoint the specific subroutine within the CESM code that you need to alter or replace with your custom code.\n",
    "2) Locate the source file: Find the Fortran source file (e.g., .F90) containing the identified subroutine within the main CESM source tree. For CAM, these files are typically located under CESM_ROOT/components/cam/src (where $CESM_ROOT is your CESM installation directory).\n",
    "3) Copy the file to SourceMods/src.cam: Copy the entire source file containing the subroutine into the SourceMods/src.cam directory within your specific CESM case directory. For example, if your case directory is my_cam_case, and you want to modify a CAM subroutine in physics/simple/held_suarez.F90, you would copy that file to: my_cam_case/SourceMods/src.cam/physics/simple/held_suarez.F90.\n",
    "4) Modify the copied file: Make the necessary changes to the copied file within your SourceMods/src.cam directory.\n",
    "5) Rebuild the CESM case: After making your modifications, you need to rebuild your CESM case to incorporate the changes into the model executable. You can typically do this by running a command like ./case.build within your case directory. If a complete rebuild is needed, use ./case.build --clean-all first.\n",
    "6) Run the case: Once the case is successfully built, you can submit and run the simulation using ./case.submit. \n",
    "### How it works\n",
    "During the CESM build process, the system prioritizes files within the SourceMods directory. When it encounters a file with the same name and path in both the main CESM source tree and your SourceMods directory, it will use the version from SourceMods. This allows your custom code to override the default CESM code without directly modifying the core CESM installation. \n",
    "Important Considerations:\n",
    "* File Naming: Ensure that the filenames and directory structure within SourceMods/src.cam exactly match the original files in the main CESM source tree.\n",
    "* Dependencies: If your modifications introduce new subroutines or modules, you might need to also copy those files into SourceMods/src.cam and ensure that all necessary files are present for successful compilation.\n",
    "* Version Control: For larger or more complex code modifications, using a version control system like Git to manage your SourceMods directory is highly recommended. This allows you to track changes, easily revert to previous versions, and collaborate with others more effectively. University Corporation for Atmospheric Research.\n",
    "* Debugging: If you encounter errors during compilation or runtime after introducing your modifications, carefully examine the build logs (typically found in your case's bld directory) for detailed error messages.\n",
    "* Namelist Changes: If your modifications require changes to CAM namelist parameters (e.g., adding or removing output variables, modifying model settings), you'll need to update the user_nl_cam file within your case directory and then rebuild the model. For example, adding a new output variable like the atmospheric temperature at 750hPa requires modifying the user_nl_cam and updating namelist_definition.xml and runtime_opts.F90 if necessary.\n",
    "* Clean Rebuilds: If you are having trouble with your modifications, performing a clean rebuild using ./case.build --clean-all can sometimes help resolve issues by ensuring that all old compiled files are removed before rebuilding. \n",
    "\n",
    "By following these guidelines and utilizing the SourceMods mechanism, you can effectively integrate your custom code modifications into the CESM CAM model and conduct your research with greater flexibility and control. \n"
   ]
  },
  {
   "cell_type": "markdown",
   "id": "22cc0d00-786e-4f79-bf47-1681ff7b8b18",
   "metadata": {
    "editable": true,
    "slideshow": {
     "slide_type": "slide"
    },
    "tags": []
   },
   "source": [
    "# Debugging CAM executable on NCAR's Izumi using TotalView\n",
    "\n",
    "TotalView is a powerful debugger for parallel and complex applications like CAM. Here's a breakdown of how to use it effectively on NCAR's Izumi machine.\n",
    "\n",
    "## 1. Preparing the CESM case for debugging\n",
    "\n",
    "### A. Enable debug flags\n",
    "\n",
    "*   Navigate to your CESM case directory.\n",
    "*   Run the command to enable debugging: `./xmlchange DEBUG=TRUE`.\n",
    "*   This command activates compile-time and run-time debugging flags, including checks for array bounds and floating-point exceptions.\n",
    "*   Note that running the model in debug mode will be significantly slower.\n",
    "\n",
    "### B. Ensure Intel compiler compatibility\n",
    "\n",
    "*   Intel compilers are generally recommended for optimal compatibility with TotalView on NCAR systems.\n",
    "*   You can set the compiler type in your CESM case through the `env_build.xml` or using `xmlchange` if needed, although it's often the default.\n",
    "\n",
    "### C. Rebuild the model\n",
    "\n",
    "*   After enabling the debug flag, rebuild the model executable to incorporate the debugging information: `./case.build --clean-all && ./case.build`.\n",
    "\n",
    "## 2. Launching TotalView\n",
    "\n",
    "### A. From the command line\n",
    "\n",
    "*   If you're debugging a core file (a program that crashed), navigate to the directory containing the executable and the core file.\n",
    "*   Start TotalView: `totalview <executable_name> <core_file_name>`.\n",
    "\n",
    "### B. Attach to a running process\n",
    "\n",
    "*   If the model is already running (e.g., in batch mode, or a long initial run), you can attach TotalView to it.\n",
    "*   First, launch TotalView: `totalview`.\n",
    "*   Then select \"A running program (attach)\" and choose your CESM executable.\n",
    "\n",
    "### C. Launching with CESM's `ddt` (if available and configured)\n",
    "\n",
    "*   On some systems, CESM provides a wrapper script, such as `ddt`, that automates the launching of the debugger and setting up the environment variables.\n",
    "*   Check your local CESM documentation and resources to see if `ddt` or a similar wrapper is available and how to use it.\n",
    "\n",
    "## 3. TotalView common commands and usage\n",
    "\n",
    "### A. Bringing up the command window\n",
    "\n",
    "*   In the TotalView GUI, go to the `Windows` menu and select `Command Line`. This opens a command prompt within the debugger for executing commands.\n",
    "\n",
    "### B. Setting breakpoints\n",
    "\n",
    "*   **GUI:** Click on the boxed line number in the source pane to set a breakpoint at that line.\n",
    "*   **Command Line:** In the command window, use the `breakpoint set <filename:line_number>` command.\n",
    "*   Example: `breakpoint set my_subroutine.F90:125`.\n",
    "*   You can also right-click a breakpoint and select `Properties` to control its behavior (e.g., stopping all processes or just the current thread).\n",
    "*   **Watchpoints:** Use `Tools > Watchpoint` in the Variable Window to set a watchpoint, which stops execution when a variable's value changes.\n",
    "\n",
    "### C. Viewing variable values\n",
    "\n",
    "*   **Stack Frame Pane:** Local variables are displayed here.\n",
    "*   **Source Pane:** Double-click on a variable in the source pane, or hover over it, to display its value in a Variable Window.\n",
    "*   **Variable Window:**  This window provides detailed information about a variable, including its type and address.\n",
    "*   **Searching:** Use `View > Lookup Variable` to search for a specific variable by name.\n",
    "*   **Arrays:**\n",
    "    *   Dive into an array to examine its elements in the Variable Window.\n",
    "    *   Use the `Slice` and `Filter` fields to focus on specific subsets of array elements (e.g., `Slice: 1:10:2` for every other element from 1 to 10; `Filter: >30` to see elements greater than 30).\n",
    "    *   Visualize 1D and 2D arrays using `Tools > Visualize`.\n",
    "    *   The `Array View` provides array statistics and slicing options.\n",
    "*   **Structures (Derived Types):**  {Link: help.totalview.io https://help.totalview.io/current/HTML/userguide/viewing_individual_eleme.htm} You can navigate the hierarchy of structures by diving into them and using the arrow buttons in the Variable Window to move up or down the hierarchy.\n",
    "*   **Monitoring changes:** TotalView highlights variables that have changed since the last stop in the Expression List Window, and you can also add a `Last Value` column to view the previous value, {Link: TotalView Documentation https://help.totalview.io/previous_releases/2018.3/HTML/User_Guides/SeeingVariableValueChangesExpressionList.html}.\n",
    "*   **Across processes/threads:** In a parallel setting (MPI or OpenMP), you can view a variable's value across processes or threads using `View > Show Across Processes/Threads` or by right-clicking the variable and selecting the corresponding option.\n",
    "\n",
    "### D. Isolating and analyzing errors\n",
    "\n",
    "*   **Step through code:** Use the `Step` command to execute one line at a time, or `Next` to step over function calls.\n",
    "*   **Go:**  Resume execution until a breakpoint is hit or the program finishes.\n",
    "*   **Go To:**  Click on a source line and select `Run To` to execute to that point.\n",
    "*   **Call Stack:**  Examine the call stack (displayed in a pane within TotalView) to see the sequence of function calls leading to the current execution point.\n",
    "*   **Memory Debugging:**  TotalView offers features for detecting memory leaks, out-of-bounds access, and other memory-related errors. Enable memory debugging using `Debug > Enable memory debugging` before running, {Link: HPC Wiki https://hpc-wiki.info/hpc/TotalView}.\n",
    "*   **ReplayEngine:**  This feature allows you to record program execution and step backward or forward through the code, {Link: HPC Wiki https://hpc-wiki.info/hpc/TotalView}.\n",
    "\n",
    "## 4. Intel compiler and TotalView compatibility\n",
    "\n",
    "*   Intel Fortran Compilers are generally well-supported by TotalView for debugging Fortran applications.\n",
    "*   It's generally a good practice to use the recommended compilers and settings for your specific NCAR system to avoid compatibility issues.\n",
    "\n",
    "By following these steps and utilizing TotalView's features, you can effectively debug your CESM CAM executable on Izumi and identify the root causes of errors in your model simulations. Remember to consult the TotalView documentation for more detailed information and advanced features. {Link: Lawrence Livermore National Laboratory (.gov) https://hpc.llnl.gov/software/development-environment-software/totalview-debugger}\n",
    "Use code with caution.\n",
    "\n",
    "AI responses may include mistakes. Learn more\n",
    "\n",
    "\n",
    "\n",
    "Provide an example of how to slice and filter a multi-dimensional array\n",
    "\n",
    "Show me how to use the ReplayEngine\n",
    "\n",
    "What are the key differences in debugging approaches between Intel and other compilers when using TotalView?\n"
   ]
  },
  {
   "cell_type": "code",
   "execution_count": null,
   "id": "2877c16e-a75b-46b2-b036-79689068288b",
   "metadata": {},
   "outputs": [],
   "source": []
  }
 ],
 "metadata": {
  "kernelspec": {
   "display_name": "Python (resbaz_rise)",
   "language": "python",
   "name": "resbaz_rise"
  },
  "language_info": {
   "codemirror_mode": {
    "name": "ipython",
    "version": 3
   },
   "file_extension": ".py",
   "mimetype": "text/x-python",
   "name": "python",
   "nbconvert_exporter": "python",
   "pygments_lexer": "ipython3",
   "version": "3.10.18"
  }
 },
 "nbformat": 4,
 "nbformat_minor": 5
}
